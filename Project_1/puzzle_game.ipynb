{
 "cells": [
  {
   "cell_type": "code",
   "execution_count": 26,
   "metadata": {},
   "outputs": [],
   "source": [
    "import numpy as np\n"
   ]
  },
  {
   "cell_type": "code",
   "execution_count": 33,
   "metadata": {},
   "outputs": [
    {
     "name": "stdout",
     "output_type": "stream",
     "text": [
      "Enter the initial state you want for the puzzle, seperated by space1 0 4 2 3 7 5 6 8\n",
      "The initial state is: \n",
      " [[1 0 4]\n",
      " [2 3 7]\n",
      " [5 6 8]]\n",
      "The goal state is: \n",
      " [[1 2 3]\n",
      " [4 5 6]\n",
      " [7 8 0]]\n"
     ]
    }
   ],
   "source": [
    "# User inputs the initial state and displaying the initial and goal states\n",
    "\n",
    "i_state = list(map(int, input(\"Enter the initial state you want for the puzzle, seperated by space\").split()))\n",
    "init_state = np.array(i_state).reshape(3, 3) \n",
    "print(\"The initial state is: \\n\", init_state)\n",
    "goal_state = ([1,2,3], \n",
    "              [4,5,6], \n",
    "              [7,8,0])\n",
    "print(\"The goal state is: \\n\", np.array(goal_state).reshape(3,3))\n",
    "\n",
    "'''# Check if the puzzle is solvable\n",
    "def check_if_solvable(puz):\n",
    "    for i in range(9):\n",
    "        for j in range(i+1,9):\n",
    "            if(puz[j] and puz[i] and puz[i] > puz[j]):\n",
    "                count += 1\n",
    "    return count\n",
    "# Call the function and then perform the below steps\n",
    "\n",
    "if (count%2 == 0):\n",
    "    print(\"This is solvable\")\n",
    "else:\n",
    "    print(\"This is not solvable\")'''\n",
    "\n",
    "# Search for the blank space/zero location in the matrix\n",
    "def pos_of_zero(pos0):\n",
    "    pos0 = np.argwhere(init_state == 0)\n",
    "    print(\" The position of 0 in the initial state of the puzzle is \")\n",
    "    i = pos0[0][0]\n",
    "    j = pos0[0][1]\n",
    "    return pos0\n",
    "#print(pos_of_zero(pos0))\n",
    "\n",
    "# Function to move the blank space/zero by one space right\n",
    "def swap(init_state, i, j):\n",
    "    if (j != 2):\n",
    "        temp = init_state[i][j]\n",
    "        init_state[i][j] = init_state[i][j+1]\n",
    "        init_state[i][j+1] = temp\n",
    "        return init_state\n",
    "    #print(swap(init_state, i, j))\n",
    "    \n",
    "# Function to move the blank space/zero by one space left\n",
    "def swap(init_state, i, j):\n",
    "    if (j != 0):\n",
    "        temp = init_state[i][j]\n",
    "        init_state[i][j] = init_state[i][j-1]\n",
    "        init_state[i][j-1] = temp\n",
    "        return init_state\n",
    "    #print(swap(init_state, i, j))\n",
    "    \n",
    "# Function to move the blank space/zero by one space up\n",
    "def swap(init_state, i, j):\n",
    "    if (i != 0):\n",
    "        temp = init_state[i][j]\n",
    "        init_state[i][j] = init_state[i-1][j]\n",
    "        init_state[i-1][j] = temp\n",
    "        return init_state\n",
    "    #print(swap(init_state, i, j))\n",
    "\n",
    "# Function to move the blank space/zero by one space down\n",
    "def swap(init_state, i, j):\n",
    "    if (i != 2):\n",
    "        temp = init_state[i][j]\n",
    "        init_state[i][j] = init_state[i+1][j]\n",
    "        init_state[i+1][j] = temp\n",
    "        return init_state\n",
    "    #print(swap(init_state, i, j))"
   ]
  }
 ],
 "metadata": {
  "kernelspec": {
   "display_name": "Python 3",
   "language": "python",
   "name": "python3"
  },
  "language_info": {
   "codemirror_mode": {
    "name": "ipython",
    "version": 3
   },
   "file_extension": ".py",
   "mimetype": "text/x-python",
   "name": "python",
   "nbconvert_exporter": "python",
   "pygments_lexer": "ipython3",
   "version": "3.7.5"
  }
 },
 "nbformat": 4,
 "nbformat_minor": 4
}
