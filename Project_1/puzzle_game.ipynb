{
 "cells": [
  {
   "cell_type": "code",
   "execution_count": 399,
   "metadata": {},
   "outputs": [],
   "source": [
    "import numpy as np\n",
    "import copy\n",
    "count = 0"
   ]
  },
  {
   "cell_type": "code",
   "execution_count": 417,
   "metadata": {},
   "outputs": [
    {
     "name": "stdout",
     "output_type": "stream",
     "text": [
      "Enter the initial state you want for the puzzle, seperated by space1 0 3 2 4 5 6 7 8\n",
      "The initial state is: \n",
      " [[1 0 3]\n",
      " [2 4 5]\n",
      " [6 7 8]]\n",
      "The goal state is: \n",
      " [[1 2 3]\n",
      " [4 5 6]\n",
      " [7 8 0]]\n"
     ]
    }
   ],
   "source": [
    "''' User inputs the initial state and displaying the initial and goal states. Also initializing all the variables used in\n",
    "    various parts of the code '''\n",
    "\n",
    "i_state = list(map(int, input(\"Enter the initial state you want for the puzzle, seperated by space\").split()))\n",
    "init_state = np.array(i_state).reshape(3, 3) \n",
    "print(\"The initial state is: \\n\", init_state)\n",
    "\n",
    "goal_state = np.array([[1,2,3], \n",
    "              [4,5,6], \n",
    "              [7,8,0]])\n",
    "print(\"The goal state is: \\n\", np.array(goal_state).reshape(3,3))\n",
    "\n",
    "parent_node = []\n",
    "all_nodes = []\n",
    "list.append(all_nodes, init_state)\n",
    "list.append(parent_node, 0)\n",
    "left = np.array([[0,0,0], [0,0,0], [0,0,0]])\n",
    "right = np.array([[0,0,0], [0,0,0], [0,0,0]])\n",
    "up = np.array([[0,0,0], [0,0,0], [0,0,0]])\n",
    "down = np.array([[0,0,0], [0,0,0], [0,0,0]])\n",
    "p = 0"
   ]
  },
  {
   "cell_type": "code",
   "execution_count": 418,
   "metadata": {},
   "outputs": [
    {
     "name": "stdout",
     "output_type": "stream",
     "text": [
      "This is solvable\n"
     ]
    }
   ],
   "source": [
    "# Check if the puzzle is solvable\n",
    "def check_if_solvable(puzzle):\n",
    "    for i in range(9):\n",
    "        for j in range(i+1,9):\n",
    "            if(puz[j] > puz[i]):\n",
    "                count += 1\n",
    "    return count\n",
    "# Call the function and then perform the below steps\n",
    "\n",
    "if (count%2 == 0):\n",
    "    print(\"This is solvable\")\n",
    "else:\n",
    "    print(\"This is not solvable\")"
   ]
  },
  {
   "cell_type": "code",
   "execution_count": 401,
   "metadata": {},
   "outputs": [],
   "source": [
    "# Search for the blank space/zero location in the matrix\n",
    "\n",
    "def pos_of_zero(pos0):\n",
    "    pos0 = np.argwhere(pos0 == 0)\n",
    "    i = pos0[0][0]\n",
    "    j = pos0[0][1]\n",
    "    #print(\" The position of 0 in the initial state of the puzzle is \", i,j)\n",
    "    return i,j\n",
    "\n"
   ]
  },
  {
   "cell_type": "code",
   "execution_count": 402,
   "metadata": {},
   "outputs": [],
   "source": [
    "# Function to move the blank space/zero by one space right\n",
    "\n",
    "def swap_right(state, row, col):\n",
    "    init_state_copy = copy.copy(state)\n",
    "    if (col != 2):\n",
    "        temp = init_state_copy[row][col]\n",
    "        init_state_copy[row][col] = init_state_copy[row][col+1]\n",
    "        init_state_copy[row][col+1] = temp\n",
    "        return init_state_copy\n",
    "    else:\n",
    "        return state\n"
   ]
  },
  {
   "cell_type": "code",
   "execution_count": 403,
   "metadata": {},
   "outputs": [],
   "source": [
    "# Function to move the blank space/zero by one space left\n",
    "\n",
    "def swap_left(state, row, col):\n",
    "    init_state_copy = copy.copy(state)\n",
    "    if (col != 0):\n",
    "        temp = init_state_copy[row][col]\n",
    "        init_state_copy[row][col] = init_state_copy[row][col-1]\n",
    "        init_state_copy[row][col-1] = temp\n",
    "        return init_state_copy\n",
    "    else:\n",
    "        return state\n"
   ]
  },
  {
   "cell_type": "code",
   "execution_count": 404,
   "metadata": {},
   "outputs": [],
   "source": [
    "# Function to move the blank space/zero by one space up\n",
    "\n",
    "def swap_up(state, row, col):\n",
    "    init_state_copy = copy.copy(state)\n",
    "    if (row != 0):\n",
    "        temp = init_state_copy[row][col]\n",
    "        init_state_copy[row][col] = init_state_copy[row-1][col]\n",
    "        init_state_copy[row-1][col] = temp\n",
    "        return init_state_copy\n",
    "    else:\n",
    "        return state\n",
    "\n"
   ]
  },
  {
   "cell_type": "code",
   "execution_count": 405,
   "metadata": {},
   "outputs": [],
   "source": [
    "# Function to move the blank space/zero by one space down\n",
    "\n",
    "def swap_down(state, row, col):\n",
    "    init_state_copy = copy.copy(state)\n",
    "    if (row != 2):\n",
    "        temp = init_state_copy[row][col]\n",
    "        init_state_copy[row][col] = init_state_copy[row+1][col]\n",
    "        init_state_copy[row+1][col] = temp\n",
    "        return init_state_copy\n",
    "    else:\n",
    "        return state\n"
   ]
  },
  {
   "cell_type": "code",
   "execution_count": 406,
   "metadata": {},
   "outputs": [],
   "source": [
    "# Function to call all the above functions to make the necessary movements\n",
    "\n",
    "def movements(new_node):\n",
    "    #parent_node[p+1] = count\n",
    "    #print(\"in\")\n",
    "    a,b = pos_of_zero(new_node)\n",
    "    #print(a,b)\n",
    "    \n",
    "    global count\n",
    "    count += 1\n",
    "    \n",
    "    left = swap_left(new_node, a, b)\n",
    "    #print(left)\n",
    "    unique_append(left)\n",
    "    \n",
    "    up = swap_up(new_node, a, b)\n",
    "    #print(up)\n",
    "    unique_append(up)\n",
    "    \n",
    "    right = swap_right(new_node, a, b)\n",
    "    #print(right)\n",
    "    unique_append(right)\n",
    "\n",
    "    down = swap_down(new_node, a, b)\n",
    "    #print(down)\n",
    "    unique_append(down)\n",
    "    return left,up,right,down"
   ]
  },
  {
   "cell_type": "code",
   "execution_count": 407,
   "metadata": {},
   "outputs": [],
   "source": [
    "# Function to check if the new nodes are unique and append them to the all nodes array\n",
    "\n",
    "def unique_append(current_node):\n",
    "    global all_nodes\n",
    "    global p\n",
    "    global delete\n",
    "    #print(\"Yes\")\n",
    "    uni = True\n",
    "    for mat in all_nodes:\n",
    "        if np.array_equal(mat, current_node):\n",
    "            uni = False\n",
    "    if (uni == True):\n",
    "        list.append(parent_node, count)\n",
    "        list.append(all_nodes, current_node)"
   ]
  },
  {
   "cell_type": "code",
   "execution_count": 408,
   "metadata": {},
   "outputs": [],
   "source": [
    "# Code snippet to solve the puzzle and obtain the goal state\n",
    "\n",
    "n =0\n",
    "while(not((right == goal_state).all() or (left == goal_state).all() or (up == goal_state).all() or (down == goal_state).all())):\n",
    "    left,up,right,down = movements(all_nodes[n])\n",
    "    n = n+1"
   ]
  },
  {
   "cell_type": "code",
   "execution_count": 409,
   "metadata": {},
   "outputs": [],
   "source": [
    "# Code Snippet for backtracking the obtained goal state to determine the path\n",
    "\n",
    "size = len(all_nodes)\n",
    "gs_i = size - 1\n",
    "is_i = 1\n",
    "path = []\n",
    "index = 0\n",
    "\n",
    "path.append(gs_i)\n",
    "while (gs_i != is_i):\n",
    "    path.append(parent_node[gs_i])\n",
    "    gs_i = path[index]\n",
    "    index += 1\n",
    "    \n",
    "path.sort()"
   ]
  },
  {
   "cell_type": "code",
   "execution_count": 410,
   "metadata": {},
   "outputs": [
    {
     "name": "stdout",
     "output_type": "stream",
     "text": [
      "[[0 1 3]\n",
      " [4 2 5]\n",
      " [7 8 6]]\n",
      "[[0 1 3]\n",
      " [4 2 5]\n",
      " [7 8 6]]\n",
      "[[1 3 0]\n",
      " [4 2 5]\n",
      " [7 8 6]]\n",
      "[[1 3 0]\n",
      " [4 2 5]\n",
      " [7 8 6]]\n",
      "[[4 1 3]\n",
      " [0 2 5]\n",
      " [7 8 6]]\n",
      "[[4 1 3]\n",
      " [0 2 5]\n",
      " [7 8 6]]\n",
      "[[1 2 3]\n",
      " [4 8 5]\n",
      " [7 0 6]]\n",
      "[[1 2 3]\n",
      " [4 8 5]\n",
      " [7 0 6]]\n",
      "[[1 2 3]\n",
      " [4 5 6]\n",
      " [7 8 0]]\n"
     ]
    }
   ],
   "source": [
    "# Code snippet to find the element in the path\n",
    "\n",
    "for element in path:\n",
    "    print(all_nodes[element])"
   ]
  },
  {
   "cell_type": "code",
   "execution_count": null,
   "metadata": {},
   "outputs": [],
   "source": []
  }
 ],
 "metadata": {
  "kernelspec": {
   "display_name": "Python 3",
   "language": "python",
   "name": "python3"
  },
  "language_info": {
   "codemirror_mode": {
    "name": "ipython",
    "version": 3
   },
   "file_extension": ".py",
   "mimetype": "text/x-python",
   "name": "python",
   "nbconvert_exporter": "python",
   "pygments_lexer": "ipython3",
   "version": "3.7.5"
  }
 },
 "nbformat": 4,
 "nbformat_minor": 4
}
